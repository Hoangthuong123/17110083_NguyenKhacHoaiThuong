{
  "nbformat": 4,
  "nbformat_minor": 0,
  "metadata": {
    "kernelspec": {
      "display_name": "Python 3",
      "language": "python",
      "name": "python3"
    },
    "language_info": {
      "codemirror_mode": {
        "name": "ipython",
        "version": 3
      },
      "file_extension": ".py",
      "mimetype": "text/x-python",
      "name": "python",
      "nbconvert_exporter": "python",
      "pygments_lexer": "ipython3",
      "version": "3.6.4"
    },
    "colab": {
      "name": "Breast Cancer Wisconsin.ipynb",
      "provenance": []
    }
  },
  "cells": [
    {
      "cell_type": "code",
      "metadata": {
        "_cell_guid": "b1076dfc-b9ad-4769-8c92-a6c4dae69d19",
        "_uuid": "8f2839f25d086af736a60e9eeb907d3b93b6e0e5",
        "id": "WjpsU0MTdz7a",
        "outputId": "171789bd-12f8-4fe6-96a3-34daa81ba0c5",
        "colab": {
          "base_uri": "https://localhost:8080/"
        }
      },
      "source": [
        "import pandas as pd\n",
        "import numpy as np\n",
        "import matplotlib.pyplot as plt\n",
        "\n",
        "df = pd.read_csv(\"data.csv\")\n",
        "print(df.info())\n",
        "#remove unused rows from data frame\n",
        "df.drop([\"id\",\"Unnamed: 32\"],axis=1,inplace=True)"
      ],
      "execution_count": 4,
      "outputs": [
        {
          "output_type": "stream",
          "text": [
            "<class 'pandas.core.frame.DataFrame'>\n",
            "RangeIndex: 569 entries, 0 to 568\n",
            "Data columns (total 33 columns):\n",
            " #   Column                   Non-Null Count  Dtype  \n",
            "---  ------                   --------------  -----  \n",
            " 0   id                       569 non-null    int64  \n",
            " 1   diagnosis                569 non-null    object \n",
            " 2   radius_mean              569 non-null    float64\n",
            " 3   texture_mean             569 non-null    float64\n",
            " 4   perimeter_mean           569 non-null    float64\n",
            " 5   area_mean                569 non-null    float64\n",
            " 6   smoothness_mean          569 non-null    float64\n",
            " 7   compactness_mean         569 non-null    float64\n",
            " 8   concavity_mean           569 non-null    float64\n",
            " 9   concave points_mean      569 non-null    float64\n",
            " 10  symmetry_mean            569 non-null    float64\n",
            " 11  fractal_dimension_mean   569 non-null    float64\n",
            " 12  radius_se                569 non-null    float64\n",
            " 13  texture_se               569 non-null    float64\n",
            " 14  perimeter_se             569 non-null    float64\n",
            " 15  area_se                  569 non-null    float64\n",
            " 16  smoothness_se            569 non-null    float64\n",
            " 17  compactness_se           569 non-null    float64\n",
            " 18  concavity_se             569 non-null    float64\n",
            " 19  concave points_se        569 non-null    float64\n",
            " 20  symmetry_se              569 non-null    float64\n",
            " 21  fractal_dimension_se     569 non-null    float64\n",
            " 22  radius_worst             569 non-null    float64\n",
            " 23  texture_worst            569 non-null    float64\n",
            " 24  perimeter_worst          569 non-null    float64\n",
            " 25  area_worst               569 non-null    float64\n",
            " 26  smoothness_worst         569 non-null    float64\n",
            " 27  compactness_worst        569 non-null    float64\n",
            " 28  concavity_worst          569 non-null    float64\n",
            " 29  concave points_worst     569 non-null    float64\n",
            " 30  symmetry_worst           569 non-null    float64\n",
            " 31  fractal_dimension_worst  569 non-null    float64\n",
            " 32  Unnamed: 32              0 non-null      float64\n",
            "dtypes: float64(31), int64(1), object(1)\n",
            "memory usage: 146.8+ KB\n",
            "None\n"
          ],
          "name": "stdout"
        }
      ]
    },
    {
      "cell_type": "markdown",
      "metadata": {
        "id": "3iJAxA4idz7h"
      },
      "source": [
        "Analyzing data.. And manupilating data depends on our needs.."
      ]
    },
    {
      "cell_type": "code",
      "metadata": {
        "id": "v4grqYZmdz7i",
        "outputId": "8feb1bf6-7ae0-4478-f99d-9243683047fc",
        "colab": {
          "base_uri": "https://localhost:8080/",
          "height": 300
        }
      },
      "source": [
        "B = df[df.diagnosis==\"B\"]\n",
        "M = df[df.diagnosis==\"M\"]\n",
        "print(\"Benign counts : \", B.shape)\n",
        "print(\"Malignant counts : \",M.shape)\n",
        "\n",
        "plt.scatter(B.area_mean ,B.texture_mean,color=\"green\")\n",
        "plt.scatter(M.area_mean ,M.texture_mean,color=\"red\")\n",
        "plt.show()\n",
        "\n",
        "#Update diagnosis results with 1 and 0.Benign = 0 , Malignant= 1\n",
        "df.diagnosis = [1 if each == \"M\" else 0 for each in df.diagnosis]\n",
        "\n",
        "y = df.iloc[:,0].values.reshape(-1,1)\n",
        "X = df.drop(\"diagnosis\",axis=1)\n",
        "\n",
        "#Normalization..\n",
        "X = (X - np.min(X)) / (np.max(X) - np.min(X)).values"
      ],
      "execution_count": 5,
      "outputs": [
        {
          "output_type": "stream",
          "text": [
            "Benign counts :  (357, 31)\n",
            "Malignant counts :  (212, 31)\n"
          ],
          "name": "stdout"
        },
        {
          "output_type": "display_data",
          "data": {
            "image/png": "[encoded data removed]",
            "text/plain": [
              "<Figure size 432x288 with 1 Axes>"
            ]
          },
          "metadata": {
            "tags": [],
            "needs_background": "light"
          }
        }
      ]
    },
    {
      "cell_type": "markdown",
      "metadata": {
        "id": "xK_SYpRYdz7m"
      },
      "source": [
        "Sigmoid Function.. We are using sigmoid because bounderies of it limited between 0 and 1 and also has derivative."
      ]
    },
    {
      "cell_type": "code",
      "metadata": {
        "id": "vkwhVkS0dz7n"
      },
      "source": [
        "def sigmoid(z) :\n",
        "    y_head = 1/(1+np.exp(-z))\n",
        "    return y_head"
      ],
      "execution_count": 6,
      "outputs": []
    },
    {
      "cell_type": "markdown",
      "metadata": {
        "id": "E4-5ap6Ldz7r"
      },
      "source": [
        "Initializing weights and bias for first iteration with random values..This random values are intuitive.."
      ]
    },
    {
      "cell_type": "code",
      "metadata": {
        "id": "qYIypG2odz7r"
      },
      "source": [
        "def initWeightsAndBias(size):\n",
        "    w = np.full((size,1),0.01)\n",
        "    b = 0.0\n",
        "    return w, b"
      ],
      "execution_count": 7,
      "outputs": []
    },
    {
      "cell_type": "markdown",
      "metadata": {
        "id": "jd4JGnlKdz7v"
      },
      "source": [
        "Calculation of forward propogation.\n",
        "With forward propogation lets find z = w.T*x+b."
      ]
    },
    {
      "cell_type": "code",
      "metadata": {
        "id": "zffnRpr0dz7w"
      },
      "source": [
        "# z = w.T*x+b\n",
        "def forwardPropogation (w,b,x_train,y_train,y_head):\n",
        "    v1 = -y_train*np.log(y_head)\n",
        "    v2 = (1-y_train)*np.log(1-y_head)\n",
        "    loss = v1-v2\n",
        "    cost = (np.sum(loss))/x_train.shape[1]      # divide to size of x_train for scaling\n",
        "    return cost"
      ],
      "execution_count": 8,
      "outputs": []
    },
    {
      "cell_type": "markdown",
      "metadata": {
        "id": "VtlqjYYVdz70"
      },
      "source": [
        "Calculation of backward propogation with getting derivative of our function.."
      ]
    },
    {
      "cell_type": "code",
      "metadata": {
        "id": "XXzfBcildz70"
      },
      "source": [
        "def backwardPropogation (x_train,y_train,y_head):\n",
        "    calculated_weight = (np.dot(x_train,((y_head-y_train).T)))/x_train.shape[1]\n",
        "    calculated_bias = np.sum(y_head-y_train)/x_train.shape[1]\n",
        "    gradients = {\"calculated_weight\": calculated_weight,\"calculated_bias\": calculated_bias}\n",
        "    return gradients"
      ],
      "execution_count": 9,
      "outputs": []
    },
    {
      "cell_type": "markdown",
      "metadata": {
        "id": "w8Tf-N4ldz74"
      },
      "source": [
        "For training our equation we should execute forward and backward simultaneously.."
      ]
    },
    {
      "cell_type": "code",
      "metadata": {
        "id": "PNJ7L_e1dz75"
      },
      "source": [
        "def forwardBackwardPropagation(w,b,x_train,y_train):\n",
        "    z = np.dot(w.T,x_train) + b\n",
        "    y_head = sigmoid(z)\n",
        "    cost = forwardPropogation(w,b,x_train,y_train,y_head)\n",
        "    gradients = backwardPropogation(x_train,y_train,y_head)\n",
        "    return cost,gradients"
      ],
      "execution_count": 10,
      "outputs": []
    },
    {
      "cell_type": "markdown",
      "metadata": {
        "id": "Hou8K3Cfdz7_"
      },
      "source": [
        "Now lets update our weights and bias with the values calculated after forward-backward propogation chain.."
      ]
    },
    {
      "cell_type": "code",
      "metadata": {
        "id": "Zq2tqcD8dz7_"
      },
      "source": [
        "def learn(w, b, x_train, y_train, learningRate,iteration):\n",
        "    costList = []\n",
        "    \n",
        "    for i in range(iteration):\n",
        "        # execute forward backward propogation to get updated gradients and cost\n",
        "        cost,gradients = forwardBackwardPropagation(w,b,x_train,y_train)\n",
        "        costList.append(cost)\n",
        "        # update weight and bias with the calculated values\n",
        "        w = w - learningRate * gradients[\"calculated_weight\"]\n",
        "        b = b - learningRate * gradients[\"calculated_bias\"]\n",
        "        #if (i % 100 == 0) :\n",
        "        #    print(\"w : {} - b : {} \".format(w,b) )\n",
        "        \n",
        "    # updated weights and bias\n",
        "    index = np.arange(iteration)\n",
        "    parameters = {\"weight\": w,\"bias\": b}\n",
        "    #print(\"Cost lists : \" , costList)\n",
        "    plt.plot(index,costList)\n",
        "    plt.xticks(index,rotation=90)\n",
        "    plt.xlabel(\" - Iteration Count - \")\n",
        "    plt.ylabel(\" - Cost - \")\n",
        "    plt.show()\n",
        "    return parameters, gradients, costList"
      ],
      "execution_count": 11,
      "outputs": []
    },
    {
      "cell_type": "markdown",
      "metadata": {
        "id": "ZX9YWLHqdz8C"
      },
      "source": [
        "let make predictions.."
      ]
    },
    {
      "cell_type": "code",
      "metadata": {
        "id": "YK2eqk_xdz8D"
      },
      "source": [
        "def predict(w,b,x_test):\n",
        "    # make some prediction with test data..\n",
        "    z = sigmoid(np.dot(w.T,x_test)+b)\n",
        "    y_prediction = np.zeros((1,x_test.shape[1]))\n",
        "    \n",
        "    # Limit is 0.5. If predicted value is greater than 0.5 \n",
        "    # then i'll flag the tumor as a malignant otherwise i'll flag it as benign \n",
        "    # We can change limit value if its necessary..\n",
        "    for i in range(z.shape[1]):\n",
        "        if z[0,i]> 0.5:\n",
        "            y_prediction[0,i] = 1\n",
        "        \n",
        "\n",
        "    return y_prediction"
      ],
      "execution_count": 12,
      "outputs": []
    },
    {
      "cell_type": "markdown",
      "metadata": {
        "id": "JbI_wsW2dz8G"
      },
      "source": [
        "Lets check the accuracy for trained function.."
      ]
    },
    {
      "cell_type": "code",
      "metadata": {
        "id": "t31GQFVGdz8H"
      },
      "source": [
        "def logisticRegression(x_train, y_train, x_test, y_test, learningRate ,  iteration):\n",
        "    # initialize\n",
        "    size =  x_train.shape[0]\n",
        "    w,b = initWeightsAndBias(size)\n",
        "    parameters, grad, costList = learn(w, b, x_train, y_train, learningRate,iteration)\n",
        "    \n",
        "    y_test_predicted = predict(parameters[\"weight\"],parameters[\"bias\"],x_test)\n",
        "\n",
        "    # Calculate accuracy with test set..\n",
        "    print(\"test accuracy: {} %\".format(100 - np.mean(np.abs(y_test_predicted - y_test)) * 100))"
      ],
      "execution_count": 13,
      "outputs": []
    },
    {
      "cell_type": "markdown",
      "metadata": {
        "id": "r8M-dlF7dz8K"
      },
      "source": [
        "Creating training and test sets.. And train.."
      ]
    },
    {
      "cell_type": "code",
      "metadata": {
        "id": "_jYQgVczdz8L",
        "outputId": "847fe9e1-2b60-4775-d004-db7feccaf915",
        "colab": {
          "base_uri": "https://localhost:8080/",
          "height": 306
        }
      },
      "source": [
        "from sklearn.model_selection import train_test_split\n",
        "\n",
        "x_train, x_test, y_train, y_test = train_test_split(X, y, test_size=0.3, random_state=42)\n",
        "x_train = x_train.T\n",
        "x_test = x_test.T\n",
        "y_train = y_train.T\n",
        "y_test = y_test.T\n",
        "\n",
        "logisticRegression(x_train, y_train, x_test, y_test,learningRate=1,iteration=150)"
      ],
      "execution_count": 14,
      "outputs": [
        {
          "output_type": "display_data",
          "data": {
            "image/png": "[encoded data removed]",
            "text/plain": [
              "<Figure size 432x288 with 1 Axes>"
            ]
          },
          "metadata": {
            "tags": [],
            "needs_background": "light"
          }
        },
        {
          "output_type": "stream",
          "text": [
            "test accuracy: 95.32163742690058 %\n"
          ],
          "name": "stdout"
        }
      ]
    }
  ]
}